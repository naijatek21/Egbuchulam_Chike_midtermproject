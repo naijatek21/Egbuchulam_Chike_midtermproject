{
 "cells": [
  {
   "cell_type": "markdown",
   "id": "f7891231-3313-4d3b-82f9-3f906308b167",
   "metadata": {},
   "source": [
    "# CS 634 Midterm Project              By Chike Egbuchulam(coe5)"
   ]
  },
  {
   "cell_type": "code",
   "execution_count": null,
   "id": "bd53958a-6c7c-4a10-b951-83e7b2d40fb0",
   "metadata": {},
   "outputs": [],
   "source": [
    "First you want to inport the libraries essential to run the the FP and Apriori Algorithms"
   ]
  }
 ],
 "metadata": {
  "kernelspec": {
   "display_name": "",
   "name": ""
  },
  "language_info": {
   "name": ""
  }
 },
 "nbformat": 4,
 "nbformat_minor": 5
}
